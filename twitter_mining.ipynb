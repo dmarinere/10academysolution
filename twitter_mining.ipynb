{
  "nbformat": 4,
  "nbformat_minor": 0,
  "metadata": {
    "colab": {
      "name": "twitter_mining.ipynb",
      "provenance": [],
      "collapsed_sections": []
    },
    "hide_input": false,
    "kernelspec": {
      "name": "python36",
      "display_name": "Python 3.6",
      "language": "python"
    },
    "language_info": {
      "mimetype": "text/x-python",
      "nbconvert_exporter": "python",
      "name": "python",
      "pygments_lexer": "ipython3",
      "version": "3.6.6",
      "file_extension": ".py",
      "codemirror_mode": {
        "version": 3,
        "name": "ipython"
      }
    },
    "latex_envs": {
      "bibliofile": "biblio.bib",
      "cite_by": "apalike",
      "current_citInitial": 1,
      "eqLabelWithNumbers": true,
      "eqNumInitial": 0
    }
  },
  "cells": [
    {
      "cell_type": "code",
      "metadata": {
        "colab_type": "code",
        "id": "rziXcUSBskS3",
        "trusted": true,
        "colab": {
          "base_uri": "https://localhost:8080/",
          "height": 122
        },
        "outputId": "cdf6674b-1c59-4de4-a77a-31af02476599"
      },
      "source": [
        "from google.colab import drive\n",
        "drive.mount('/content/drive')"
      ],
      "execution_count": null,
      "outputs": [
        {
          "output_type": "stream",
          "text": [
            "Go to this URL in a browser: https://accounts.google.com/o/oauth2/auth?client_id=947318989803-6bn6qk8qdgf4n4g3pfee6491hc0brc4i.apps.googleusercontent.com&redirect_uri=urn%3aietf%3awg%3aoauth%3a2.0%3aoob&response_type=code&scope=email%20https%3a%2f%2fwww.googleapis.com%2fauth%2fdocs.test%20https%3a%2f%2fwww.googleapis.com%2fauth%2fdrive%20https%3a%2f%2fwww.googleapis.com%2fauth%2fdrive.photos.readonly%20https%3a%2f%2fwww.googleapis.com%2fauth%2fpeopleapi.readonly\n",
            "\n",
            "Enter your authorization code:\n",
            "··········\n",
            "Mounted at /content/drive\n"
          ],
          "name": "stdout"
        }
      ]
    },
    {
      "cell_type": "markdown",
      "metadata": {
        "id": "R7xZXCVkaE4a",
        "colab_type": "text"
      },
      "source": [
        "# Twitter Developer Account\n",
        "In order to use Twitter’s API, we have to create a developer account on the Twitter apps site.\n",
        " * Log in or make a Twitter account at https://apps.twitter.com/.\n",
        " * Create a new app (button on the top right)\n",
        " \n",
        "<img src=https://miro.medium.com/max/1400/0*Dq78m3JKoSqZY5SS.png style=\"width: 200px;\">\n",
        "\n",
        "Fill in the app creation page with a unique name, a website name (use a placeholder website if you don’t have one), and a project description. Accept the terms and conditions and proceed to the next page.\n",
        "\n",
        "Once your project has been created, click on the “Keys and Access Tokens” tab. You should now be able to see your consumer secret and consumer key.\n",
        "\n",
        "<img src=https://miro.medium.com/max/1400/0*YU1pFqTw6Dn-ZmOd.png style=\"width: 200px;\">\n",
        "\n",
        "You’ll also need a pair of access tokens. Scroll down and request those tokens. The page should refresh, and you should now have an access token and access token secret.\n",
        "\n",
        "<img src=https://miro.medium.com/max/1400/0*_gnOgA0aaAqPgDJG.png style=\"width: 200px;\">\n"
      ]
    },
    {
      "cell_type": "markdown",
      "metadata": {
        "id": "_EpNAF2OaE4a",
        "colab_type": "text"
      },
      "source": [
        "## Import necessary modules"
      ]
    },
    {
      "cell_type": "code",
      "metadata": {
        "colab_type": "code",
        "id": "UI2fIQFxrNLB",
        "run_control": {
          "frozen": false,
          "read_only": false
        },
        "trusted": true,
        "colab": {}
      },
      "source": [
        "import sys\n",
        "import os\n",
        "import json\n",
        "import re\n",
        "import string\n",
        "import pandas as pd\n",
        "import matplotlib.pyplot as pltr"
      ],
      "execution_count": 2,
      "outputs": []
    },
    {
      "cell_type": "code",
      "metadata": {
        "colab_type": "code",
        "id": "3pf5Xapqrq0M",
        "trusted": true,
        "colab": {
          "base_uri": "https://localhost:8080/",
          "height": 377
        },
        "outputId": "781ad6a4-4c6f-471a-f891-b971a25ccff5"
      },
      "source": [
        "#Import the necessary methods from tweepy library  \n",
        "\n",
        "#install tweepy if you don't have it\n",
        "!pip install tweepy\n",
        "import json\n",
        "import tweepy\n",
        "from tweepy.streaming import StreamListener\n",
        "from tweepy import OAuthHandler\n",
        "from tweepy import Stream\n",
        "\n",
        "#sentiment analysis package\n",
        "!pip install textblob\n",
        "from textblob import TextBlob\n",
        "\n",
        "#general text pre-processor\n",
        "!pip install nltk\n",
        "import nltk\n",
        "from nltk.corpus import stopwords\n",
        "nltk.download('stopwords')\n",
        "nltk.download('punkt')\n",
        "\n",
        "#tweet pre-processor \n",
        "!pip install tweet-preprocessor\n",
        "import preprocessor as p"
      ],
      "execution_count": 10,
      "outputs": [
        {
          "output_type": "stream",
          "text": [
            "Requirement already satisfied: tweepy in /usr/local/lib/python3.6/dist-packages (3.6.0)\n",
            "Requirement already satisfied: six>=1.10.0 in /usr/local/lib/python3.6/dist-packages (from tweepy) (1.12.0)\n",
            "Requirement already satisfied: requests-oauthlib>=0.7.0 in /usr/local/lib/python3.6/dist-packages (from tweepy) (1.3.0)\n",
            "Requirement already satisfied: PySocks>=1.5.7 in /usr/local/lib/python3.6/dist-packages (from tweepy) (1.7.1)\n",
            "Requirement already satisfied: requests>=2.11.1 in /usr/local/lib/python3.6/dist-packages (from tweepy) (2.23.0)\n",
            "Requirement already satisfied: oauthlib>=3.0.0 in /usr/local/lib/python3.6/dist-packages (from requests-oauthlib>=0.7.0->tweepy) (3.1.0)\n",
            "Requirement already satisfied: chardet<4,>=3.0.2 in /usr/local/lib/python3.6/dist-packages (from requests>=2.11.1->tweepy) (3.0.4)\n",
            "Requirement already satisfied: certifi>=2017.4.17 in /usr/local/lib/python3.6/dist-packages (from requests>=2.11.1->tweepy) (2020.6.20)\n",
            "Requirement already satisfied: idna<3,>=2.5 in /usr/local/lib/python3.6/dist-packages (from requests>=2.11.1->tweepy) (2.10)\n",
            "Requirement already satisfied: urllib3!=1.25.0,!=1.25.1,<1.26,>=1.21.1 in /usr/local/lib/python3.6/dist-packages (from requests>=2.11.1->tweepy) (1.24.3)\n",
            "Requirement already satisfied: textblob in /usr/local/lib/python3.6/dist-packages (0.15.3)\n",
            "Requirement already satisfied: nltk>=3.1 in /usr/local/lib/python3.6/dist-packages (from textblob) (3.2.5)\n",
            "Requirement already satisfied: six in /usr/local/lib/python3.6/dist-packages (from nltk>=3.1->textblob) (1.12.0)\n",
            "Requirement already satisfied: nltk in /usr/local/lib/python3.6/dist-packages (3.2.5)\n",
            "Requirement already satisfied: six in /usr/local/lib/python3.6/dist-packages (from nltk) (1.12.0)\n",
            "[nltk_data] Downloading package stopwords to /root/nltk_data...\n",
            "[nltk_data]   Package stopwords is already up-to-date!\n",
            "[nltk_data] Downloading package punkt to /root/nltk_data...\n",
            "[nltk_data]   Unzipping tokenizers/punkt.zip.\n",
            "Requirement already satisfied: tweet-preprocessor in /usr/local/lib/python3.6/dist-packages (0.6.0)\n"
          ],
          "name": "stdout"
        }
      ]
    },
    {
      "cell_type": "markdown",
      "metadata": {
        "id": "9It6uvsGaE4m",
        "colab_type": "text"
      },
      "source": [
        "### Starting code\n",
        "Below we define some starting codes (python classes and function) to illustrate and assist on how to fetch data from twitter and analyse them. \n",
        "\n",
        "### **Your task is**\n",
        "1. Go through the code and understand it. Know what each function does\n",
        "2. If you find error, fix it. Ask for help in the slack channel if you find serious mistake\n",
        "3. Extend the code such that it will be useful for topics you choose to analyse\n",
        "4. Make nice plots and share your finding (e.g.  insight on the main covid19 twitter converstions about your country)\n",
        "5. Submit what ever you managed to do by Wednesday morning. But you should keep using what you build to write blogs, share on facebook, etc. "
      ]
    },
    {
      "cell_type": "code",
      "metadata": {
        "id": "cxeglBDRpcvj",
        "colab_type": "code",
        "colab": {}
      },
      "source": [
        "consumer_key = \"secret\"\n",
        "consumer_secret = \"secret\"\n",
        "access_token = \"secret\"\n",
        "access_token_secret = \"secret\"\n"
      ],
      "execution_count": 34,
      "outputs": []
    },
    {
      "cell_type": "code",
      "metadata": {
        "id": "HpBF-gS-pYw1",
        "colab_type": "code",
        "colab": {}
      },
      "source": [
        "auth = OAuthHandler(consumer_key, consumer_secret)\n",
        "auth.set_access_token(access_token, access_token_secret)\n",
        "api = tweepy.API(auth, wait_on_rate_limit=True,\n",
        "                     wait_on_rate_limit_notify=True)"
      ],
      "execution_count": 4,
      "outputs": []
    },
    {
      "cell_type": "code",
      "metadata": {
        "id": "Sdn-ZUutaE4n",
        "colab_type": "code",
        "trusted": true,
        "colab": {}
      },
      "source": [
        "class tweetsearch():\n",
        "    '''\n",
        "    This is a basic class to search and download twitter data.\n",
        "    You can build up on it to extend the functionalities for more \n",
        "    sophisticated analysis\n",
        "    '''\n",
        "    def __init__(self, cols=None,auth=None):\n",
        "        if cols is None:\n",
        "            self.cols = ['id', 'created_at', 'source', 'original_text','clean_text', \n",
        "                    'sentiment','polarity','subjectivity', 'lang',\n",
        "                    'favorite_count', 'retweet_count', 'original_author',   \n",
        "                    'possibly_sensitive', 'hashtags',\n",
        "                    'user_mentions', 'place', 'place_coord_boundaries']\n",
        "        else:\n",
        "            self.cols = cols\n",
        "  \n",
        "            \n",
        "        if auth is None:\n",
        "            #Variables that contains the user credentials to access Twitter API \n",
        "            consumer_key = os.environ.get('TWITTER_API_KEY')\n",
        "            consumer_secret = os.environ.get('TWITTER_API_SECRET')\n",
        "            access_token = os.environ.get('TWITTER_ACCESS_TOKEN')\n",
        "            access_token_secret = os.environ.get('TWITTER_ACCESS_TOKEN_SECRET')\n",
        "\n",
        "\n",
        "            #This handles Twitter authetification and the connection to Twitter Streaming API\n",
        "            auth = OAuthHandler(consumer_key, consumer_secret)\n",
        "            auth.set_access_token(access_token, access_token_secret)\n",
        "            \n",
        "\n",
        "        #            \n",
        "        self.auth = auth\n",
        "        self.api = tweepy.API(auth)            \n",
        "            \n",
        "\n",
        "    def clean_tweets(self, twitter_text):\n",
        "        self.twitter_text = twitter_text\n",
        "        #use pre processor\n",
        "        tweet = p.clean(self.twitter_text)\n",
        "\n",
        "         #HappyEmoticons\n",
        "        emoticons_happy = set([\n",
        "            ':-)', ':)', ';)', ':o)', ':]', ':3', ':c)', ':>', '=]', '8)', '=)', ':}',\n",
        "            ':^)', ':-D', ':D', '8-D', '8D', 'x-D', 'xD', 'X-D', 'XD', '=-D', '=D',\n",
        "            '=-3', '=3', ':-))', \":'-)\", \":')\", ':*', ':^*', '>:P', ':-P', ':P', 'X-P',\n",
        "            'x-p', 'xp', 'XP', ':-p', ':p', '=p', ':-b', ':b', '>:)', '>;)', '>:-)',\n",
        "            '<3'\n",
        "            ])\n",
        "\n",
        "        # Sad Emoticons\n",
        "        emoticons_sad = set([\n",
        "            ':L', ':-/', '>:/', ':S', '>:[', ':@', ':-(', ':[', ':-||', '=L', ':<',\n",
        "            ':-[', ':-<', '=\\\\', '=/', '>:(', ':(', '>.<', \":'-(\", \":'(\", ':\\\\', ':-c',\n",
        "            ':c', ':{', '>:\\\\', ';('\n",
        "            ])\n",
        "\n",
        "        #Emoji patterns\n",
        "        emoji_pattern = re.compile(\"[\"\n",
        "                 u\"\\U0001F600-\\U0001F64F\"  # emoticons\n",
        "                 u\"\\U0001F300-\\U0001F5FF\"  # symbols & pictographs\n",
        "                 u\"\\U0001F680-\\U0001F6FF\"  # transport & map symbols\n",
        "                 u\"\\U0001F1E0-\\U0001F1FF\"  # flags (iOS)\n",
        "                 u\"\\U00002702-\\U000027B0\"\n",
        "                 u\"\\U000024C2-\\U0001F251\"\n",
        "                 \"]+\", flags=re.UNICODE)\n",
        "\n",
        "        #combine sad and happy emoticons\n",
        "        emoticons = emoticons_happy.union(emoticons_sad)\n",
        "\n",
        "        stop_words = set(stopwords.words('english'))\n",
        "        word_tokens = nltk.word_tokenize(tweet)\n",
        "        #after tweepy preprocessing the colon symbol left remain after      \n",
        "        #removing mentions\n",
        "        tweet = re.sub(r':', '', tweet)\n",
        "        tweet = re.sub(r'‚Ä¶', '', tweet)\n",
        "\n",
        "        #replace consecutive non-ASCII characters with a space\n",
        "        tweet = re.sub(r'[^\\x00-\\x7F]+',' ', tweet)\n",
        "\n",
        "        #remove emojis from tweet\n",
        "        tweet = emoji_pattern.sub(r'', tweet)\n",
        "\n",
        "        #filter using NLTK library append it to a string\n",
        "        filtered_tweet = [w for w in word_tokens if not w in stop_words]\n",
        "\n",
        "        #looping through conditions\n",
        "        filtered_tweet = []    \n",
        "        for w in word_tokens:\n",
        "        #check tokens against stop words , emoticons and punctuations\n",
        "            if w not in stop_words and w not in emoticons and w not in string.punctuation:\n",
        "                filtered_tweet.append(w)\n",
        "\n",
        "        self.filtered_tweet = ' '.join(filtered_tweet)\n",
        "    def get_tweets(self, keyword, csvfile=None):\n",
        "        \n",
        "        \n",
        "        df = pd.DataFrame(columns=self.cols)\n",
        "        \n",
        "        if not csvfile is None:\n",
        "            #If the file exists, then read the existing data from the CSV file.\n",
        "            if os.path.exists(csvfile):\n",
        "                df = pd.read_csv(csvfile, header=0)\n",
        "            \n",
        "\n",
        "        #page attribute in tweepy.cursor and iteration\n",
        "        for page in tweepy.Cursor(api.search, q=keyword,count=200, include_rt=False).pages(70):\n",
        "\n",
        "\n",
        "            for status in page:\n",
        "                \n",
        "                new_entry = []\n",
        "                status = status._json\n",
        "                \n",
        "                #filter by language\n",
        "                if status['lang'] != 'en':\n",
        "                    continue\n",
        "\n",
        "                \n",
        "                #if this tweet is a retweet update retweet count\n",
        "                if status['created_at'] in df['created_at'].values:\n",
        "                    i = df.loc[df['created_at'] == status['created_at']].index[0]\n",
        "                    #\n",
        "                    cond1 = status['favorite_count'] != df.at[i, 'favorite_count']\n",
        "                    cond2 = status['retweet_count'] != df.at[i, 'retweet_count']\n",
        "                    if cond1 or cond2:\n",
        "                        df.at[i, 'favorite_count'] = status['favorite_count']\n",
        "                        df.at[i, 'retweet_count'] = status['retweet_count']\n",
        "                    continue\n",
        "                self.clean_tweets(status['text'])\n",
        "\n",
        "                #calculate sentiment\n",
        "                blob = TextBlob(self.filtered_tweet)\n",
        "                Sentiment = blob.sentiment     \n",
        "                polarity = Sentiment.polarity\n",
        "                subjectivity = Sentiment.subjectivity\n",
        "\n",
        "                new_entry += [status['id'], status['created_at'],\n",
        "                              status['source'], status['text'],self.filtered_tweet, \n",
        "                              Sentiment,polarity,subjectivity, status['lang'],\n",
        "                              status['favorite_count'], status['retweet_count']]\n",
        "\n",
        "                new_entry.append(status['user']['screen_name'])\n",
        "\n",
        "                try:\n",
        "                    is_sensitive = status['possibly_sensitive']\n",
        "                except KeyError:\n",
        "                    is_sensitive = None\n",
        "\n",
        "                new_entry.append(is_sensitive)\n",
        "\n",
        "                hashtags = \", \".join([hashtag_item['text'] for hashtag_item in status['entities']['hashtags']])\n",
        "                new_entry.append(hashtags) #append the hashtags\n",
        "\n",
        "                #\n",
        "                mentions = \", \".join([mention['screen_name'] for mention in status['entities']['user_mentions']])\n",
        "                new_entry.append(mentions) #append the user mentions\n",
        "\n",
        "                try:\n",
        "                    xyz = status['place']['bounding_box']['coordinates']\n",
        "                    coordinates = [coord for loc in xyz for coord in loc]\n",
        "                except TypeError:\n",
        "                    coordinates = None\n",
        "                #\n",
        "                new_entry.append(coordinates)\n",
        "\n",
        "                try:\n",
        "                    location = status['user']['location']\n",
        "                except TypeError:\n",
        "                    location = ''\n",
        "                #\n",
        "                new_entry.append(location)\n",
        "\n",
        "                #now append a row to the dataframe\n",
        "                single_tweet_df = pd.DataFrame([new_entry], columns=self.cols)\n",
        "                df = df.append(single_tweet_df, ignore_index=True)\n",
        "\n",
        "        if not csvfile is None:\n",
        "            #save it to file\n",
        "            df.to_csv(csvfile, columns=self.cols, index=False, encoding=\"utf-8\")\n",
        "            \n",
        "        return df\n",
        "\n"
      ],
      "execution_count": 5,
      "outputs": []
    },
    {
      "cell_type": "markdown",
      "metadata": {
        "id": "FuaNQbjnaE4s",
        "colab_type": "text"
      },
      "source": [
        "### Search twitter and fetch data example"
      ]
    },
    {
      "cell_type": "code",
      "metadata": {
        "id": "B33pm4m0aE4s",
        "colab_type": "code",
        "trusted": true,
        "colab": {}
      },
      "source": [
        "covid_keywords = '@gettleman'  #hashtag based search\n",
        "tweets_file = 'data/ethiopia_covid19_23june2020.json'\n",
        "\n",
        "#get data on keywords\n",
        "ts = tweetsearch()\n",
        "df = ts.get_tweets(covid_keywords)    #you saved the "
      ],
      "execution_count": 11,
      "outputs": []
    },
    {
      "cell_type": "code",
      "metadata": {
        "id": "zfmp86QwRaVN",
        "colab_type": "code",
        "colab": {
          "base_uri": "https://localhost:8080/",
          "height": 34
        },
        "outputId": "9d98cafe-19f8-46c1-a38b-35aa9ae945f6"
      },
      "source": [
        "len(df)"
      ],
      "execution_count": 13,
      "outputs": [
        {
          "output_type": "execute_result",
          "data": {
            "text/plain": [
              "197"
            ]
          },
          "metadata": {
            "tags": []
          },
          "execution_count": 13
        }
      ]
    },
    {
      "cell_type": "code",
      "metadata": {
        "trusted": true,
        "scrolled": true,
        "id": "7Hk6Ov3Zl_Rh",
        "colab_type": "code",
        "colab": {
          "base_uri": "https://localhost:8080/",
          "height": 496
        },
        "outputId": "1ff807a9-8687-4ef9-bee3-202652229c7e"
      },
      "source": [
        "df.head()"
      ],
      "execution_count": 12,
      "outputs": [
        {
          "output_type": "execute_result",
          "data": {
            "text/html": [
              "<div>\n",
              "<style scoped>\n",
              "    .dataframe tbody tr th:only-of-type {\n",
              "        vertical-align: middle;\n",
              "    }\n",
              "\n",
              "    .dataframe tbody tr th {\n",
              "        vertical-align: top;\n",
              "    }\n",
              "\n",
              "    .dataframe thead th {\n",
              "        text-align: right;\n",
              "    }\n",
              "</style>\n",
              "<table border=\"1\" class=\"dataframe\">\n",
              "  <thead>\n",
              "    <tr style=\"text-align: right;\">\n",
              "      <th></th>\n",
              "      <th>id</th>\n",
              "      <th>created_at</th>\n",
              "      <th>source</th>\n",
              "      <th>original_text</th>\n",
              "      <th>clean_text</th>\n",
              "      <th>sentiment</th>\n",
              "      <th>polarity</th>\n",
              "      <th>subjectivity</th>\n",
              "      <th>lang</th>\n",
              "      <th>favorite_count</th>\n",
              "      <th>retweet_count</th>\n",
              "      <th>original_author</th>\n",
              "      <th>possibly_sensitive</th>\n",
              "      <th>hashtags</th>\n",
              "      <th>user_mentions</th>\n",
              "      <th>place</th>\n",
              "      <th>place_coord_boundaries</th>\n",
              "    </tr>\n",
              "  </thead>\n",
              "  <tbody>\n",
              "    <tr>\n",
              "      <th>0</th>\n",
              "      <td>1283275844132040704</td>\n",
              "      <td>Wed Jul 15 05:42:58 +0000 2020</td>\n",
              "      <td>&lt;a href=\"http://twitter.com/download/android\" ...</td>\n",
              "      <td>RT @NileshResearch: @ChakraNews @AzzatAlsaleem...</td>\n",
              "      <td></td>\n",
              "      <td>(0.0, 0.0)</td>\n",
              "      <td>0.000000</td>\n",
              "      <td>0.000000</td>\n",
              "      <td>en</td>\n",
              "      <td>0</td>\n",
              "      <td>29</td>\n",
              "      <td>MaVericKHunt007</td>\n",
              "      <td>None</td>\n",
              "      <td></td>\n",
              "      <td>NileshResearch, ChakraNews, AzzatAlsaleem, get...</td>\n",
              "      <td>None</td>\n",
              "      <td>Konohagakure, Hi No Kuni</td>\n",
              "    </tr>\n",
              "    <tr>\n",
              "      <th>1</th>\n",
              "      <td>1283128917449150466</td>\n",
              "      <td>Tue Jul 14 19:59:07 +0000 2020</td>\n",
              "      <td>&lt;a href=\"http://twitter.com/download/iphone\" r...</td>\n",
              "      <td>Now that @bariweiss has resigned from @nytimes...</td>\n",
              "      <td>Now resigned et al also resign solidarity</td>\n",
              "      <td>(0.0, 0.0)</td>\n",
              "      <td>0.000000</td>\n",
              "      <td>0.000000</td>\n",
              "      <td>en</td>\n",
              "      <td>0</td>\n",
              "      <td>0</td>\n",
              "      <td>toothofgold</td>\n",
              "      <td>False</td>\n",
              "      <td></td>\n",
              "      <td>bariweiss, nytimes, AudreyTruschke, gettleman</td>\n",
              "      <td>None</td>\n",
              "      <td>Bryanston, England</td>\n",
              "    </tr>\n",
              "    <tr>\n",
              "      <th>2</th>\n",
              "      <td>1283126947476799492</td>\n",
              "      <td>Tue Jul 14 19:51:18 +0000 2020</td>\n",
              "      <td>&lt;a href=\"https://mobile.twitter.com\" rel=\"nofo...</td>\n",
              "      <td>RT @shaikubaid: Encounter impunity of the UP p...</td>\n",
              "      <td>Encounter impunity UP police Yogi people kille...</td>\n",
              "      <td>(0.08333333333333334, 0.35000000000000003)</td>\n",
              "      <td>0.083333</td>\n",
              "      <td>0.350000</td>\n",
              "      <td>en</td>\n",
              "      <td>0</td>\n",
              "      <td>1</td>\n",
              "      <td>MohammadKSarwar</td>\n",
              "      <td>None</td>\n",
              "      <td></td>\n",
              "      <td>shaikubaid</td>\n",
              "      <td>None</td>\n",
              "      <td>Bloomfield</td>\n",
              "    </tr>\n",
              "    <tr>\n",
              "      <th>3</th>\n",
              "      <td>1283108945884778502</td>\n",
              "      <td>Tue Jul 14 18:39:46 +0000 2020</td>\n",
              "      <td>&lt;a href=\"http://twitter.com/download/iphone\" r...</td>\n",
              "      <td>@chiragwakaskar @gettleman While nepotism may ...</td>\n",
              "      <td>While nepotism may word case sure goes show ri...</td>\n",
              "      <td>(0.4375, 0.8194444444444444)</td>\n",
              "      <td>0.437500</td>\n",
              "      <td>0.819444</td>\n",
              "      <td>en</td>\n",
              "      <td>0</td>\n",
              "      <td>0</td>\n",
              "      <td>continenthop</td>\n",
              "      <td>None</td>\n",
              "      <td></td>\n",
              "      <td>chiragwakaskar, gettleman</td>\n",
              "      <td>None</td>\n",
              "      <td>Sheffield, England</td>\n",
              "    </tr>\n",
              "    <tr>\n",
              "      <th>4</th>\n",
              "      <td>1283083799887216640</td>\n",
              "      <td>Tue Jul 14 16:59:51 +0000 2020</td>\n",
              "      <td>&lt;a href=\"http://twitter.com/download/iphone\" r...</td>\n",
              "      <td>RT @ChakraNews: This is common in Bangladesh. ...</td>\n",
              "      <td>This common Bangladesh As happens Pakistan.Ano...</td>\n",
              "      <td>(-0.3, 0.5)</td>\n",
              "      <td>-0.300000</td>\n",
              "      <td>0.500000</td>\n",
              "      <td>en</td>\n",
              "      <td>0</td>\n",
              "      <td>2</td>\n",
              "      <td>VedicKausik</td>\n",
              "      <td>None</td>\n",
              "      <td></td>\n",
              "      <td>ChakraNews</td>\n",
              "      <td>None</td>\n",
              "      <td>United States</td>\n",
              "    </tr>\n",
              "  </tbody>\n",
              "</table>\n",
              "</div>"
            ],
            "text/plain": [
              "                    id  ...    place_coord_boundaries\n",
              "0  1283275844132040704  ...  Konohagakure, Hi No Kuni\n",
              "1  1283128917449150466  ...        Bryanston, England\n",
              "2  1283126947476799492  ...                Bloomfield\n",
              "3  1283108945884778502  ...        Sheffield, England\n",
              "4  1283083799887216640  ...             United States\n",
              "\n",
              "[5 rows x 17 columns]"
            ]
          },
          "metadata": {
            "tags": []
          },
          "execution_count": 12
        }
      ]
    },
    {
      "cell_type": "code",
      "metadata": {
        "trusted": true,
        "id": "Zp_OGT5bl_Rm",
        "colab_type": "code",
        "colab": {}
      },
      "source": [
        "df.to_csv(\"data.csv\", encoding='utf-8')"
      ],
      "execution_count": null,
      "outputs": []
    },
    {
      "cell_type": "markdown",
      "metadata": {
        "id": "RwJvRUHdaE4x",
        "colab_type": "text"
      },
      "source": [
        "## Stream data and save it to file\n",
        "In the above we saw how to search and fetch data, below we will see how we will stream data from twitter. Make sure you understand the difference between search and stream features of twitter api.\n",
        "\n",
        "### **SAME TASK AS ABOVE**\n"
      ]
    },
    {
      "cell_type": "code",
      "metadata": {
        "colab_type": "code",
        "id": "r6lcy009rX_e",
        "trusted": true,
        "colab": {}
      },
      "source": [
        "#This is a basic listener that writes received tweets to file.\n",
        "class StdOutListener(StreamListener):\n",
        "\n",
        "    def __init__(self,fhandle, stop_at = 1000):\n",
        "        self.tweet_counter = 0\n",
        "        self.stop_at = stop_at\n",
        "        self.fhandle = fhandle\n",
        "         \n",
        "        \n",
        "    def on_data(self, data):\n",
        "        self.fhandle.write(data)\n",
        "        \n",
        "        #stop if enough tweets are obtained\n",
        "        self.tweet_counter += 1   \n",
        "        if self.tweet_counter < self.stop_at:        \n",
        "            return True\n",
        "        else:\n",
        "            print('Max number of tweets reached: #tweets = ' + str(self.tweet_counter))\n",
        "            return False\n",
        "\n",
        "    def on_error(self, status):\n",
        "        print (status)\n",
        "\n",
        "def stream_tweet_data(\n",
        "                      keywords=['COVID19Africa','COVID19Ethiopia'],\n",
        "                      is_async=False):\n",
        "    # tweet topics to use as a filter. The tweets downloaded\n",
        "    # will have one of the topics in their text or hashtag \n",
        "\n",
        "    print('saving data to file: ',filename)\n",
        "\n",
        "    #print the tweet topics \n",
        "    print('TweetKeywords are: ',keywords)\n",
        "    print('For testing case, please interupt the downloading process using ctrl+x after about 5 mins ')\n",
        "    print('To keep streaming in the background, pass is_async=True')\n",
        "\n",
        "    #Variables that contains the user credentials to access Twitter API \n",
        "    consumer_key = os.environ.get('TWITTER_API_KEY')\n",
        "    consumer_secret = os.environ.get('TWITTER_API_SECRET')\n",
        "    access_token = os.environ.get('TWITTER_ACCESS_TOKEN')\n",
        "    access_token_secret = os.environ.get('TWITTER_ACCESS_TOKEN_SECRET')\n",
        "\n",
        "    #open file \n",
        "    fhandle=open(filename,'w')\n",
        "\n",
        "    #This handles Twitter authetification and the connection to Twitter Streaming API\n",
        "    l = StdOutListener(fhandle)\n",
        "    auth = OAuthHandler(consumer_key, consumer_secret)\n",
        "    auth.set_access_token(access_token, access_token_secret)\n",
        "\n",
        "    stream = Stream(auth, l)\n",
        "\n",
        "    #This line filter Twitter Streams to capture data by the keywords: first argument to this code\n",
        "    stream.filter(track=keywords,is_async=is_async)\n",
        "\n",
        "    return None\n",
        "\n"
      ],
      "execution_count": null,
      "outputs": []
    },
    {
      "cell_type": "code",
      "metadata": {
        "trusted": true,
        "id": "M59FD-MXl_Ru",
        "colab_type": "code",
        "colab": {}
      },
      "source": [
        ""
      ],
      "execution_count": null,
      "outputs": []
    },
    {
      "cell_type": "markdown",
      "metadata": {
        "id": "54EqP1rZaE43",
        "colab_type": "text"
      },
      "source": [
        "### Use case of the above code"
      ]
    },
    {
      "cell_type": "code",
      "metadata": {
        "colab_type": "code",
        "id": "F8tcPcSMrNLL",
        "trusted": true,
        "colab": {}
      },
      "source": [
        "tweets_file = 'data/ethiopia_covid19_23june2020.json'\n",
        "stream_tweet_data(filename=tweets_file,keywords=['covid19'])"
      ],
      "execution_count": null,
      "outputs": []
    },
    {
      "cell_type": "markdown",
      "metadata": {
        "id": "KRTtwUxRaE48",
        "colab_type": "text"
      },
      "source": [
        "### Filter twitter data and do basic analysis\n",
        "**Extend it to gain more insight**"
      ]
    },
    {
      "cell_type": "code",
      "metadata": {
        "colab_type": "code",
        "id": "SNmEJ7etaE49",
        "trusted": true,
        "colab": {},
        "outputId": "d7abd9c2-065c-40e8-f71b-e808d985c364"
      },
      "source": [
        "tweets_data = []\n",
        "for line in open(tweets_file, \"r\"):\n",
        "    try:\n",
        "        tweet = json.loads(line)\n",
        "        x=tweet['text']\n",
        "        tweets_data.append(tweet)\n",
        "    except:\n",
        "        continue\n",
        "\n",
        "\n",
        "print('saved numbers of tweets: ', len(tweets_data))"
      ],
      "execution_count": null,
      "outputs": [
        {
          "output_type": "stream",
          "text": [
            "saved numbers of tweets:  998\n"
          ],
          "name": "stdout"
        }
      ]
    },
    {
      "cell_type": "code",
      "metadata": {
        "colab_type": "code",
        "id": "hlFKyGnYrNLX",
        "trusted": true,
        "colab": {}
      },
      "source": [
        "tweets = pd.DataFrame(columns=['text','lang','country'])\n",
        "\n",
        "tweets['text'] = list(map(lambda tweet: tweet['text'], tweets_data))\n",
        "tweets['lang'] = list(map(lambda tweet: tweet['lang'], tweets_data))\n",
        "tweets['country'] = list(map(lambda tweet: tweet['place']['country'] if tweet['place'] != None else None, \n",
        "                             tweets_data))\n",
        "\n",
        "\n",
        "tweets_by_lang = tweets['lang'].value_counts()"
      ],
      "execution_count": null,
      "outputs": []
    },
    {
      "cell_type": "code",
      "metadata": {
        "colab_type": "code",
        "id": "aEPPoCBtrNLd",
        "trusted": true,
        "colab": {},
        "outputId": "bfe0cee1-814d-4f30-f47d-205218b3adc9"
      },
      "source": [
        "fig, ax = plt.subplots()\n",
        "ax.tick_params(axis='x', labelsize=15)\n",
        "ax.tick_params(axis='y', labelsize=10)\n",
        "ax.set_xlabel('Languages', fontsize=15)\n",
        "ax.set_ylabel('Number of tweets' , fontsize=15)\n",
        "ax.set_title('Top 5 languages', fontsize=15, fontweight='bold')\n",
        "tweets_by_lang[:5].plot(ax=ax, kind='bar', color='red')\n",
        "\n",
        "tweets_by_country = tweets['country'].value_counts()\n",
        "\n",
        "fig, ax = plt.subplots()\n",
        "ax.tick_params(axis='x', labelsize=15)\n",
        "ax.tick_params(axis='y', labelsize=10)\n",
        "ax.set_xlabel('Countries', fontsize=15)\n",
        "ax.set_ylabel('Number of tweets' , fontsize=15)\n",
        "ax.set_title('Top 5 countries', fontsize=15, fontweight='bold')\n",
        "tweets_by_country[:5].plot(ax=ax, kind='bar', color='blue')"
      ],
      "execution_count": null,
      "outputs": [
        {
          "output_type": "execute_result",
          "data": {
            "text/plain": [
              "<matplotlib.axes._subplots.AxesSubplot at 0x11fe7c978>"
            ]
          },
          "metadata": {
            "tags": []
          },
          "execution_count": 31
        },
        {
          "output_type": "display_data",
          "data": {
            "image/png": "[encoded data removed]",
            "text/plain": [
              "<Figure size 432x288 with 1 Axes>"
            ]
          },
          "metadata": {
            "tags": [],
            "needs_background": "light"
          }
        },
        {
          "output_type": "display_data",
          "data": {
            "image/png": "[encoded data removed]",
            "text/plain": [
              "<Figure size 432x288 with 1 Axes>"
            ]
          },
          "metadata": {
            "tags": [],
            "needs_background": "light"
          }
        }
      ]
    },
    {
      "cell_type": "markdown",
      "metadata": {
        "colab_type": "text",
        "id": "IQYFg6t5rNLj"
      },
      "source": [
        "# Hashtag histogram. \n",
        "\n",
        "## Please write code that will help you answer the following questions\n",
        " 1) What is the most used hashtag?\n",
        " \n",
        " 2) What is the most used referenced username?\n",
        " \n",
        " 3) What is the most retweeted tweet?"
      ]
    },
    {
      "cell_type": "code",
      "metadata": {
        "colab_type": "code",
        "id": "p0VUwYR8rNLk",
        "trusted": true,
        "colab": {}
      },
      "source": [
        "### The most used hashtag can be found by checking the number of unique values in the hashtag column"
      ],
      "execution_count": null,
      "outputs": []
    },
    {
      "cell_type": "code",
      "metadata": {
        "trusted": true,
        "id": "SO8wy3Vnl_SI",
        "colab_type": "code",
        "colab": {},
        "outputId": "a93b195e-b4a4-41e0-9e68-094b8f14382c"
      },
      "source": [
        ""
      ],
      "execution_count": null,
      "outputs": [
        {
          "output_type": "execute_result",
          "data": {
            "text/plain": [
              "740"
            ]
          },
          "metadata": {
            "tags": []
          },
          "execution_count": 30
        }
      ]
    },
    {
      "cell_type": "code",
      "metadata": {
        "trusted": true,
        "id": "4o2YHdTJl_SL",
        "colab_type": "code",
        "colab": {},
        "outputId": "865c671d-a26a-41f3-cea4-04b7f545c19b"
      },
      "source": [
        "hashtag = df['hashtags'].value_counts().reset_index()\n",
        "hashtag.head()\n",
        "#The most used Hashtag in Ngeria is the COVID19Nigeria and it didn't return an hashtag 740 times"
      ],
      "execution_count": null,
      "outputs": [
        {
          "output_type": "execute_result",
          "data": {
            "text/html": [
              "<div>\n",
              "<style scoped>\n",
              "    .dataframe tbody tr th:only-of-type {\n",
              "        vertical-align: middle;\n",
              "    }\n",
              "\n",
              "    .dataframe tbody tr th {\n",
              "        vertical-align: top;\n",
              "    }\n",
              "\n",
              "    .dataframe thead th {\n",
              "        text-align: right;\n",
              "    }\n",
              "</style>\n",
              "<table border=\"1\" class=\"dataframe\">\n",
              "  <thead>\n",
              "    <tr style=\"text-align: right;\">\n",
              "      <th></th>\n",
              "      <th>index</th>\n",
              "      <th>hashtags</th>\n",
              "    </tr>\n",
              "  </thead>\n",
              "  <tbody>\n",
              "    <tr>\n",
              "      <th>0</th>\n",
              "      <td></td>\n",
              "      <td>733</td>\n",
              "    </tr>\n",
              "    <tr>\n",
              "      <th>1</th>\n",
              "      <td>COVID19Nigeria</td>\n",
              "      <td>376</td>\n",
              "    </tr>\n",
              "    <tr>\n",
              "      <th>2</th>\n",
              "      <td>COVID19Nigeria, COVID19</td>\n",
              "      <td>284</td>\n",
              "    </tr>\n",
              "    <tr>\n",
              "      <th>3</th>\n",
              "      <td>COVID19</td>\n",
              "      <td>48</td>\n",
              "    </tr>\n",
              "    <tr>\n",
              "      <th>4</th>\n",
              "      <td>COVID19Nigeria, CTVLiveTweets</td>\n",
              "      <td>42</td>\n",
              "    </tr>\n",
              "  </tbody>\n",
              "</table>\n",
              "</div>"
            ],
            "text/plain": [
              "                           index  hashtags\n",
              "0                                      733\n",
              "1                 COVID19Nigeria       376\n",
              "2        COVID19Nigeria, COVID19       284\n",
              "3                        COVID19        48\n",
              "4  COVID19Nigeria, CTVLiveTweets        42"
            ]
          },
          "metadata": {
            "tags": []
          },
          "execution_count": 57
        }
      ]
    },
    {
      "cell_type": "markdown",
      "metadata": {
        "id": "uZT8rro5l_SO",
        "colab_type": "text"
      },
      "source": [
        "###   The most referenced username can be gotten from the mention column in the Dataframe"
      ]
    },
    {
      "cell_type": "code",
      "metadata": {
        "trusted": true,
        "id": "9AsNLOWKl_SP",
        "colab_type": "code",
        "colab": {},
        "outputId": "c0d4f92f-7f45-4cb5-d094-81d2e713a42f"
      },
      "source": [
        "reference =df['user_mentions'].value_counts().reset_index()\n",
        "reference.head()\n",
        "#The most reference username is ChannelsTV a popular news channel in Nigeria"
      ],
      "execution_count": null,
      "outputs": [
        {
          "output_type": "execute_result",
          "data": {
            "text/html": [
              "<div>\n",
              "<style scoped>\n",
              "    .dataframe tbody tr th:only-of-type {\n",
              "        vertical-align: middle;\n",
              "    }\n",
              "\n",
              "    .dataframe tbody tr th {\n",
              "        vertical-align: top;\n",
              "    }\n",
              "\n",
              "    .dataframe thead th {\n",
              "        text-align: right;\n",
              "    }\n",
              "</style>\n",
              "<table border=\"1\" class=\"dataframe\">\n",
              "  <thead>\n",
              "    <tr style=\"text-align: right;\">\n",
              "      <th></th>\n",
              "      <th>index</th>\n",
              "      <th>user_mentions</th>\n",
              "    </tr>\n",
              "  </thead>\n",
              "  <tbody>\n",
              "    <tr>\n",
              "      <th>0</th>\n",
              "      <td>channelstv</td>\n",
              "      <td>403</td>\n",
              "    </tr>\n",
              "    <tr>\n",
              "      <th>1</th>\n",
              "      <td></td>\n",
              "      <td>388</td>\n",
              "    </tr>\n",
              "    <tr>\n",
              "      <th>2</th>\n",
              "      <td>NCDCgov</td>\n",
              "      <td>263</td>\n",
              "    </tr>\n",
              "    <tr>\n",
              "      <th>3</th>\n",
              "      <td>YeleSowore</td>\n",
              "      <td>54</td>\n",
              "    </tr>\n",
              "    <tr>\n",
              "      <th>4</th>\n",
              "      <td>RotimiAkeredolu</td>\n",
              "      <td>49</td>\n",
              "    </tr>\n",
              "  </tbody>\n",
              "</table>\n",
              "</div>"
            ],
            "text/plain": [
              "             index  user_mentions\n",
              "0       channelstv            403\n",
              "1                             388\n",
              "2          NCDCgov            263\n",
              "3       YeleSowore             54\n",
              "4  RotimiAkeredolu             49"
            ]
          },
          "metadata": {
            "tags": []
          },
          "execution_count": 58
        }
      ]
    },
    {
      "cell_type": "code",
      "metadata": {
        "trusted": true,
        "id": "dCfxHZ2Sl_ST",
        "colab_type": "code",
        "colab": {}
      },
      "source": [
        "df['retweet_count'] = df['retweet_count'].astype('int') "
      ],
      "execution_count": null,
      "outputs": []
    },
    {
      "cell_type": "code",
      "metadata": {
        "trusted": true,
        "id": "125nuMOTl_SW",
        "colab_type": "code",
        "colab": {},
        "outputId": "b91d378c-e6cd-499e-80d4-eacac390d7b4"
      },
      "source": [
        "df.iloc[df['retweet_count'].idxmax()]\n",
        "#The most retweeted tweet is a tweet by DREWRB7 about the government of nigeria\n"
      ],
      "execution_count": null,
      "outputs": [
        {
          "output_type": "execute_result",
          "data": {
            "text/plain": [
              "id                                                      1278135943346753537\n",
              "created_at                                   Wed Jul 01 01:18:50 +0000 2020\n",
              "source                    <a href=\"http://twitter.com/download/android\" ...\n",
              "original_text             RT @segalink: What they said and what’s on gro...\n",
              "clean_text                What said whats ground Lets check situation re...\n",
              "sentiment                                                        (0.0, 0.0)\n",
              "polarity                                                                  0\n",
              "subjectivity                                                              0\n",
              "lang                                                                     en\n",
              "favorite_count                                                            0\n",
              "retweet_count                                                          3364\n",
              "original_author                                                     DrewRB7\n",
              "possibly_sensitive                                                     None\n",
              "hashtags                                                     Covid19Nigeria\n",
              "user_mentions                                                      segalink\n",
              "place                                                                  None\n",
              "place_coord_boundaries                                                     \n",
              "Name: 34, dtype: object"
            ]
          },
          "metadata": {
            "tags": []
          },
          "execution_count": 62
        }
      ]
    },
    {
      "cell_type": "code",
      "metadata": {
        "trusted": true,
        "id": "b7To2fO9l_Sa",
        "colab_type": "code",
        "colab": {}
      },
      "source": [
        ""
      ],
      "execution_count": null,
      "outputs": []
    },
    {
      "cell_type": "code",
      "metadata": {
        "trusted": true,
        "id": "8lc-408Nl_Sd",
        "colab_type": "code",
        "colab": {}
      },
      "source": [
        ""
      ],
      "execution_count": null,
      "outputs": []
    }
  ]
}